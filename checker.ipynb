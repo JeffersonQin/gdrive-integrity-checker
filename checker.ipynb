{
 "cells": [
  {
   "cell_type": "markdown",
   "metadata": {},
   "source": [
    "# Google Drive File Integrity Checker\n",
    "\n",
    "本工具可以检查 Google Drive 上传的文件的完整性。\n",
    "\n",
    "步骤：\n",
    "\n",
    "1. 本地使用 7-zip 输出 SHA256 文件\n",
    "2. 使用 `check(hash_file)` 进行校验"
   ]
  },
  {
   "cell_type": "code",
   "execution_count": 1,
   "metadata": {},
   "outputs": [],
   "source": [
    "from tqdm.notebook import tqdm as tqdm\n",
    "import os\n",
    "\n",
    "\n",
    "def calculate_hash(file_path, buff_size=1090125824): # buffer size: 1GB\n",
    "\timport hashlib\n",
    "\tsha256 = hashlib.sha256()\n",
    "\n",
    "\twith tqdm(total=os.stat(file_path).st_size) as bar:\n",
    "\t\tnow = 0\n",
    "\t\twhile True:\n",
    "\t\t\tdef sub(now):\n",
    "\t\t\t\twith open(file_path, 'rb') as f:\n",
    "\t\t\t\t\tf.seek(now, 0)\n",
    "\t\t\t\t\tdata = f.read(buff_size)\n",
    "\t\t\t\t\tif not data:\n",
    "\t\t\t\t\t\treturn -1\n",
    "\t\t\t\t\tsha256.update(data)\n",
    "\t\t\t\t\tbar.update(len(data))\n",
    "\t\t\t\t\tnow += len(data)\n",
    "\t\t\t\treturn now\n",
    "\t\t\tnow = sub(now)\n",
    "\t\t\tif now < 0: break\n",
    "\n",
    "\treturn sha256.hexdigest()\n",
    "\n",
    "\n",
    "def check(hash_file):\n",
    "\tpath, file_name = os.path.split(hash_file)\n",
    "\t_, file_extension = os.path.splitext(file_name)\n",
    "\n",
    "\tif file_extension != '.sha256':\n",
    "\t\traise ValueError('File is not a sha256 file')\n",
    "\n",
    "\twith open(hash_file, 'r') as f:\n",
    "\t\thash_info = f.read()\n",
    "\n",
    "\thash_file_calculated = {}\n",
    "\tfor hash_info_line in hash_info.splitlines():\n",
    "\t\tif hash_info_line.startswith('//'):\n",
    "\t\t\tcontinue\n",
    "\t\thash_info = hash_info_line[:64]\n",
    "\t\thash_file_calculated[os.path.join(path, hash_info_line[66:])] = hash_info\n",
    "\n",
    "\tmismatched_files = []\n",
    "\n",
    "\tfor file_path, file_hash in hash_file_calculated.items():\n",
    "\t\tif not os.path.isfile(file_path):\n",
    "\t\t\traise ValueError('File {} does not exist'.format(file_path))\n",
    "\t\tprint(f'Calculating hash for {file_path} ...')\n",
    "\t\tres_hash = calculate_hash(file_path)\n",
    "\t\tprint(f'Calculated: {res_hash}')\n",
    "\t\tprint(f'Expected  : {file_hash}')\n",
    "\t\tif res_hash != file_hash:\n",
    "\t\t\tprint(f'ERROR: HASH DOES NOT MATCH for {file_path}')\n",
    "\t\t\tmismatched_files.append(file_path)\n",
    "\n",
    "\tif len(mismatched_files) > 0:\n",
    "\t\tprint(f'{len(mismatched_files)} files mismatched')\n",
    "\t\tfor file_path in mismatched_files:\n",
    "\t\t\tprint(f'  {file_path}')\n",
    "\telse:\n",
    "\t\tprint('All files matched')"
   ]
  },
  {
   "cell_type": "code",
   "execution_count": null,
   "metadata": {},
   "outputs": [],
   "source": [
    "from google.colab import drive\n",
    "drive.mount('/content/drive')"
   ]
  }
 ],
 "metadata": {
  "interpreter": {
   "hash": "c2c5a749947c1039286a45b254bcaf92fb099812a553a87dc66e9d926a170f86"
  },
  "kernelspec": {
   "display_name": "Python 3.9.0 64-bit",
   "language": "python",
   "name": "python3"
  },
  "language_info": {
   "codemirror_mode": {
    "name": "ipython",
    "version": 3
   },
   "file_extension": ".py",
   "mimetype": "text/x-python",
   "name": "python",
   "nbconvert_exporter": "python",
   "pygments_lexer": "ipython3",
   "version": "3.9.0"
  },
  "orig_nbformat": 4
 },
 "nbformat": 4,
 "nbformat_minor": 2
}
